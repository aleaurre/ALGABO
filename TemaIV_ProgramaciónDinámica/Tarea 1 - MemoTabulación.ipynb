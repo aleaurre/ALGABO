{
 "cells": [
  {
   "cell_type": "markdown",
   "id": "e611f34c",
   "metadata": {},
   "source": [
    "\n",
    "# Práctico — Programación Dinámica: Fibonacci (sin/ con memoización) y Mochila 0/1\n",
    "\n",
    "**Objetivos**\n",
    "- Contrastar *recursión ingenua* vs **memoización** en Fibonacci (tiempo, llamadas).\n",
    "- Implementar **Mochila 0/1** con **tabulación** y **reconstrucción** sobre un **ejemplo generado aleatoriamente**.\n",
    "- Interpretar resultados y complejidades.\n"
   ]
  },
  {
   "cell_type": "code",
   "execution_count": 1,
   "id": "97d19c50",
   "metadata": {
    "execution": {
     "iopub.execute_input": "2025-09-12T23:36:29.664825Z",
     "iopub.status.busy": "2025-09-12T23:36:29.664606Z",
     "iopub.status.idle": "2025-09-12T23:36:29.670879Z",
     "shell.execute_reply": "2025-09-12T23:36:29.670490Z"
    }
   },
   "outputs": [
    {
     "name": "stdout",
     "output_type": "stream",
     "text": [
      "Semilla aleatoria: 42\n"
     ]
    }
   ],
   "source": [
    "\n",
    "import math, random, time\n",
    "from functools import lru_cache\n",
    "random.seed(42)\n",
    "print(\"Semilla aleatoria:\", 42)\n"
   ]
  },
  {
   "cell_type": "markdown",
   "id": "fb45a9b6",
   "metadata": {},
   "source": [
    "## 1) Fibonacci — recursión ingenua (sin memoización)"
   ]
  },
  {
   "cell_type": "code",
   "execution_count": 12,
   "id": "106863d4",
   "metadata": {
    "execution": {
     "iopub.execute_input": "2025-09-12T23:36:29.673659Z",
     "iopub.status.busy": "2025-09-12T23:36:29.673357Z",
     "iopub.status.idle": "2025-09-12T23:36:29.797782Z",
     "shell.execute_reply": "2025-09-12T23:36:29.797338Z"
    }
   },
   "outputs": [
    {
     "name": "stdout",
     "output_type": "stream",
     "text": [
      "fib_rec(20) = 6765\n",
      "Tiempo (seg): 0.0011\n"
     ]
    }
   ],
   "source": [
    "\n",
    "def fib_rec(n):\n",
    "    if n <= 1:\n",
    "        return n\n",
    "    return fib_rec(n-1) + fib_rec(n-2)\n",
    "\n",
    "n_small = 20\n",
    "t0 = time.perf_counter()\n",
    "val_small = fib_rec(n_small)\n",
    "t1 = time.perf_counter()\n",
    "\n",
    "print(f\"fib_rec({n_small}) = {val_small}\")\n",
    "print(f\"Tiempo (seg): {t1 - t0:.4f}\")\n"
   ]
  },
  {
   "cell_type": "markdown",
   "id": "e039b07d",
   "metadata": {},
   "source": [
    "## 2) Fibonacci — memoización (top-down)"
   ]
  },
  {
   "cell_type": "code",
   "execution_count": 13,
   "id": "87a4f7b6",
   "metadata": {
    "execution": {
     "iopub.execute_input": "2025-09-12T23:36:29.800770Z",
     "iopub.status.busy": "2025-09-12T23:36:29.800495Z",
     "iopub.status.idle": "2025-09-12T23:36:29.805388Z",
     "shell.execute_reply": "2025-09-12T23:36:29.804938Z"
    }
   },
   "outputs": [
    {
     "name": "stdout",
     "output_type": "stream",
     "text": [
      "fib_memo_dict(2000) = 4224696333392304878706725602341482782579852840250681098010280137314308584370130707224123599639141511088446087538909603607640194711643596029271983312598737326253555802606991585915229492453904998722256795316982874482472992263901833716778060607011615497886719879858311468870876264597369086722884023654422295243347964480139515349562972087652656069529806499841977448720155612802665404554171717881930324025204312082516817125\n",
      "Tiempo (seg): 0.002027\n",
      "Llamadas únicas computadas: 1999 (0..2000)\n"
     ]
    }
   ],
   "source": [
    "\n",
    "def fib_memo(n, mem=None):\n",
    "    \"\"\"\n",
    "    Calcula F(n) con memoización explícita.\n",
    "    - n: entero >= 0\n",
    "    - mem: diccionario para cachear resultados {k: F(k)}\n",
    "    \"\"\"   \n",
    "    # TO DO: Completar el código de fibonnaci con memoización explícita, siguiendo la plantilla vista en clase.\n",
    "    # Meoización explícita implica usar un diccionario para guardar los resultados ya calculados,\n",
    "    # de esta forma evitamos cálculos repetidos. \n",
    "    if mem is None: \n",
    "        mem = {}\n",
    "    if n in mem:\n",
    "        return mem[n] # Si estado en mem: retornar mem[estado]\n",
    "    if n <= 1:\n",
    "        return n # Si estado es caso_base: retornar valor_base\n",
    "    \n",
    "    mem[n] = fib_memo(n-1, mem) + fib_memo(n-2, mem) # mejor <- combinar (F(subestado1), F(subestado2), ...)\n",
    "    return mem[n] # mem[estado] <- mejor, y retornarlo\n",
    "\n",
    "from functools import lru_cache\n",
    "@lru_cache(maxsize=None)\n",
    "def fib_memo_lru(n):\n",
    "    if n <= 1:\n",
    "        return n\n",
    "    return fib_memo_lru(n-1) + fib_memo_lru(n-2)\n",
    "\n",
    "n_big = 2000\n",
    "mem = {}\n",
    "t0 = time.perf_counter()\n",
    "val = fib_memo(n_big, mem)\n",
    "t1 = time.perf_counter()\n",
    "\n",
    "print(f\"fib_memo_dict({n_big}) = {val}\")\n",
    "print(f\"Tiempo (seg): {t1 - t0:.6f}\")\n",
    "print(f\"Llamadas únicas computadas: {len(mem)} (0..{max(mem.keys())})\")"
   ]
  },
  {
   "cell_type": "markdown",
   "id": "dd44bbaf",
   "metadata": {},
   "source": [
    "\n",
    "**Comentarios rápidos:**  \n",
    "- `fib_rec` crece **exponencial** en tiempo (≈ \\(\\varphi^n\\)).  \n",
    "- `fib_memo` es **O(n)** en tiempo y **O(n)** en memoria.  \n",
    "- Para `n` muy grande, preferir *tabulación* iterativa (O(1) espacio) o *fast doubling* (O(log n)).\n"
   ]
  },
  {
   "cell_type": "markdown",
   "id": "9613fcf7",
   "metadata": {},
   "source": [
    "## 3) Mochila 0/1 — Tabulación + Reconstrucción (instancia aleatoria)"
   ]
  },
  {
   "cell_type": "code",
   "execution_count": 5,
   "id": "d4fd264f",
   "metadata": {
    "execution": {
     "iopub.execute_input": "2025-09-12T23:36:29.807795Z",
     "iopub.status.busy": "2025-09-12T23:36:29.807570Z",
     "iopub.status.idle": "2025-09-12T23:36:29.812960Z",
     "shell.execute_reply": "2025-09-12T23:36:29.812558Z"
    }
   },
   "outputs": [
    {
     "name": "stdout",
     "output_type": "stream",
     "text": [
      "Instancia generada:\n",
      "  Item 01: peso= 4, valor= 64\n",
      "  Item 02: peso= 1, valor= 14\n",
      "  Item 03: peso= 9, valor= 13\n",
      "  Item 04: peso= 8, valor= 21\n",
      "  Item 05: peso= 8, valor= 37\n",
      "  Item 06: peso= 5, valor= 39\n",
      "  Item 07: peso= 4, valor= 74\n",
      "  Item 08: peso=18, valor= 87\n",
      "  Item 09: peso= 3, valor= 13\n",
      "  Item 10: peso=19, valor= 81\n",
      "Capacidad: 31\n"
     ]
    }
   ],
   "source": [
    "\n",
    "def generar_instancia_mochila(n_items=10, wmin=1, wmax=20, vmin=10, vmax=100, capacidad_ratio=0.4):\n",
    "    pesos = [random.randint(wmin, wmax) for _ in range(n_items)]\n",
    "    valores = [random.randint(vmin, vmax) for _ in range(n_items)]\n",
    "    cap = max(1, int(sum(pesos) * capacidad_ratio))\n",
    "    return pesos, valores, cap\n",
    "\n",
    "pesos, valores, CAP = generar_instancia_mochila(n_items=10)\n",
    "n = len(pesos)\n",
    "\n",
    "print(\"Instancia generada:\")\n",
    "for i, (w, v) in enumerate(zip(pesos, valores), start=1):\n",
    "    print(f\"  Item {i:02d}: peso={w:2d}, valor={v:3d}\")\n",
    "print(\"Capacidad:\", CAP)\n"
   ]
  },
  {
   "cell_type": "code",
   "execution_count": null,
   "id": "6a2fe8b2",
   "metadata": {
    "execution": {
     "iopub.execute_input": "2025-09-12T23:36:29.815227Z",
     "iopub.status.busy": "2025-09-12T23:36:29.815033Z",
     "iopub.status.idle": "2025-09-12T23:36:29.821777Z",
     "shell.execute_reply": "2025-09-12T23:36:29.821231Z"
    }
   },
   "outputs": [
    {
     "name": "stdout",
     "output_type": "stream",
     "text": [
      "Mejor valor total: 264\n",
      "Ítems tomados (índices 0-based): [0, 5, 6, 7]\n",
      "Peso total: 31 de 31\n",
      "Valor total (verificación): 264\n",
      "Tiempo DP (seg): 0.000183\n"
     ]
    }
   ],
   "source": [
    "\n",
    "def mochila_01_tab(pesos, valores, CAP):\n",
    "    \"\"\"\n",
    "    Mochila 0/1 con Programación Dinámica (tabulación, bottom-up).\n",
    "\n",
    "    Parámetros:\n",
    "      - pesos:   lista de enteros > 0 con los pesos de cada ítem\n",
    "      - valores: lista de enteros >= 0 con los valores de cada ítem\n",
    "      - CAP:     capacidad máxima (entero >= 0)\n",
    "\n",
    "    Retorna:\n",
    "      - mejor_valor:  valor máximo alcanzable con capacidad CAP\n",
    "      - items_tomados: lista de índices (0-based) de los ítems seleccionados\n",
    "      - dp:           tabla DP de tamaño (n+1) x (CAP+1) con los valores óptimos\n",
    "                      para subproblemas (primeras i filas, capacidad w)\n",
    "    Idea:\n",
    "      dp[i][w] = mejor valor usando SOLO los primeros i ítems y una capacidad w.\n",
    "      Transición:\n",
    "        - No tomar i:           dp[i-1][w]\n",
    "        - Tomar i (si cabe):   valores[i-1] + dp[i-1][w - pesos[i-1]]\n",
    "      Tomamos el máximo de ambas opciones.\n",
    "    \"\"\"\n",
    "    n = len(pesos)\n",
    "\n",
    "    # 1) Crear tabla DP con ceros\n",
    "    dp = [[0] * (CAP + 1) for _ in range(n + 1)]\n",
    "\n",
    "    # 2) Llenado de la tabla (bottom-up)\n",
    "    for i in range(1, n + 1):\n",
    "        peso_i = pesos[i - 1]\n",
    "        valor_i = valores[i - 1]\n",
    "        for w in range(CAP + 1):\n",
    "            mejor = dp[i - 1][w] # Opción 1: NO tomar el ítem i-1\n",
    "            if peso_i <= w:      # Opción 2: tomar el ítem i-1 si cabe\n",
    "                mejor = max(mejor, valor_i + dp[i - 1][w - peso_i])\n",
    "            dp[i][w] = mejor\n",
    "\n",
    "    # 3) Reconstrucción de la solución óptima\n",
    "    w = CAP\n",
    "    items_tomados = []\n",
    "    for i in range(n, 0, -1):\n",
    "        if dp[i][w] != dp[i - 1][w]:\n",
    "            items_tomados.append(i - 1)\n",
    "            w -= pesos[i - 1]\n",
    "            if w == 0:\n",
    "                break\n",
    "\n",
    "    items_tomados.reverse()\n",
    "    return dp[n][CAP], items_tomados, dp\n",
    "\n",
    "\n",
    "# ==========================\n",
    "# Ejecución/medición ejemplo\n",
    "# (Asume que ya existen: pesos, valores, CAP)\n",
    "# ==========================\n",
    "t0 = time.perf_counter()\n",
    "mejor_valor, items_tomados, dp = mochila_01_tab(pesos, valores, CAP)\n",
    "t1 = time.perf_counter()\n",
    "\n",
    "# Resultados principales\n",
    "print(f\"Mejor valor total: {mejor_valor}\")\n",
    "print(f\"Ítems tomados (índices 0-based): {items_tomados}\")\n",
    "\n",
    "# Verificación y métricas útiles\n",
    "if items_tomados:\n",
    "    total_peso = sum(pesos[i] for i in items_tomados)\n",
    "    total_valor = sum(valores[i] for i in items_tomados)\n",
    "    print(f\"Peso total: {total_peso} de {CAP}\")\n",
    "    print(f\"Valor total (verificación): {total_valor}\")\n",
    "\n",
    "print(f\"Tiempo DP (seg): {t1 - t0:.6f}\")"
   ]
  },
  {
   "cell_type": "markdown",
   "id": "b681bae9",
   "metadata": {},
   "source": [
    "\n",
    "**Notas:**  \n",
    "- Estado: `dp[i][W]` = mejor valor con los primeros `i` ítems y capacidad `W`.  \n",
    "- Transición: `max( dp[i-1][W], valor_i + dp[i-1][W - peso_i] )` cuando `peso_i ≤ W`.  \n",
    "- Complejidad: **O(n · CAP)** tiempo y **O(n · CAP)** memoria.  \n",
    "- *Extra (no implementado aquí)*: versión **1D** usando `dp[W]` y recorriendo `W` **de mayor a menor**.\n"
   ]
  },
  {
   "cell_type": "markdown",
   "id": "d5fda70f",
   "metadata": {},
   "source": [
    "### (Opcional) Otra instancia: cambie la semilla y re-ejecute\n",
    "### Imprima el resultado de Mochila 0/1 en un una tabla que refleje el proceso de ejecución del algoritmo"
   ]
  },
  {
   "cell_type": "code",
   "execution_count": 21,
   "id": "6123aa48",
   "metadata": {
    "execution": {
     "iopub.execute_input": "2025-09-12T23:36:29.850960Z",
     "iopub.status.busy": "2025-09-12T23:36:29.850743Z",
     "iopub.status.idle": "2025-09-12T23:36:29.853871Z",
     "shell.execute_reply": "2025-09-12T23:36:29.853271Z"
    }
   },
   "outputs": [
    {
     "name": "stdout",
     "output_type": "stream",
     "text": [
      "Capacidad: 45 | Mejor valor: 393 | Ítems: [0, 2, 3, 4, 5, 6, 10]\n",
      "Capacidad: 51 | Mejor valor: 482 | Ítems: [0, 1, 3, 4, 8, 11]\n",
      "Capacidad: 43 | Mejor valor: 488 | Ítems: [0, 3, 4, 5, 8, 10, 11]\n",
      "Capacidad: 48 | Mejor valor: 536 | Ítems: [1, 3, 5, 6, 7, 9, 10, 11]\n"
     ]
    }
   ],
   "source": [
    "\n",
    "random.seed(123)\n",
    "pesos, valores, CAP = generar_instancia_mochila(n_items=12)\n",
    "mejor_valor, items_tomados, dp = mochila_01_tab(pesos, valores, CAP)\n",
    "print(\"Capacidad:\", CAP, \"| Mejor valor:\", mejor_valor, \"| Ítems:\", items_tomados)\n",
    "\n",
    "random.seed(598)\n",
    "pesos, valores, CAP = generar_instancia_mochila(n_items=12)\n",
    "mejor_valor, items_tomados, dp = mochila_01_tab(pesos, valores, CAP)\n",
    "print(\"Capacidad:\", CAP, \"| Mejor valor:\", mejor_valor, \"| Ítems:\", items_tomados)\n",
    "\n",
    "random.seed(87)\n",
    "pesos, valores, CAP = generar_instancia_mochila(n_items=12)\n",
    "mejor_valor, items_tomados, dp = mochila_01_tab(pesos, valores, CAP)\n",
    "print(\"Capacidad:\", CAP, \"| Mejor valor:\", mejor_valor, \"| Ítems:\", items_tomados)\n",
    "\n",
    "random.seed(95)\n",
    "pesos, valores, CAP = generar_instancia_mochila(n_items=12)\n",
    "mejor_valor, items_tomados, dp = mochila_01_tab(pesos, valores, CAP)\n",
    "print(\"Capacidad:\", CAP, \"| Mejor valor:\", mejor_valor, \"| Ítems:\", items_tomados)\n"
   ]
  }
 ],
 "metadata": {
  "kernelspec": {
   "display_name": "algabo",
   "language": "python",
   "name": "python3"
  },
  "language_info": {
   "codemirror_mode": {
    "name": "ipython",
    "version": 3
   },
   "file_extension": ".py",
   "mimetype": "text/x-python",
   "name": "python",
   "nbconvert_exporter": "python",
   "pygments_lexer": "ipython3",
   "version": "3.11.9"
  }
 },
 "nbformat": 4,
 "nbformat_minor": 5
}
